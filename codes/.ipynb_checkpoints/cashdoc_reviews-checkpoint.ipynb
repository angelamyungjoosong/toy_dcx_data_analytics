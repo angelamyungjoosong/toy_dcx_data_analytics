{
 "cells": [
  {
   "cell_type": "markdown",
   "id": "50a87962-32b2-46dc-8172-dcd89a4ee512",
   "metadata": {
    "tags": []
   },
   "source": [
    "### 캐시닥 디스크 관련 글 및 댓글\n",
    "- https://community.cashdoc.me/community?word=%EB%94%94%EC%8A%A4%ED%81%AC&field=titleWithContent&page=1"
   ]
  },
  {
   "cell_type": "code",
   "execution_count": 1,
   "id": "74bec4b6-0753-4693-b034-bcdf351f60c2",
   "metadata": {
    "tags": []
   },
   "outputs": [],
   "source": [
    "from selenium import webdriver\n",
    "import time\n",
    "import pandas as pd \n",
    "import pymongo as mg "
   ]
  },
  {
   "cell_type": "code",
   "execution_count": 2,
   "id": "62002591-e0c9-46cd-a603-3016976ef125",
   "metadata": {
    "tags": []
   },
   "outputs": [],
   "source": [
    "browser = webdriver.Chrome(executable_path='../../chromedriver.exe')"
   ]
  },
  {
   "cell_type": "code",
   "execution_count": 3,
   "id": "75954264-af89-4e2b-8ebe-e73699fe2a06",
   "metadata": {
    "tags": []
   },
   "outputs": [],
   "source": [
    "browser.get('https://community.cashdoc.me/community?word=%EB%94%94%EC%8A%A4%ED%81%AC&field=titleWithContent&page=1')"
   ]
  },
  {
   "cell_type": "markdown",
   "id": "90f23fce-e311-4d18-9a4a-6a3412cd5bda",
   "metadata": {
    "tags": []
   },
   "source": [
    "### 글 가져오기\n",
    "- 글 묶음 tag: #table-common-content > div > div > table > tbody > tr, table > tbody > tr:nth-child(1)\n",
    "- 글 제목 tag: .header-title\n",
    "- 글 작성자 tag: .nickName\n",
    "- 글 날짜 tag: .createdAt\n",
    "- 글 내용 tag: .post-detail\n",
    "- 글 댓글 작성자 tag: .cmt-nickname\n",
    "- 글 댓글 내용 tag: .ProseMirror"
   ]
  },
  {
   "cell_type": "code",
   "execution_count": 5,
   "id": "cb36ef1f-2e66-4522-8676-b7223203df5c",
   "metadata": {
    "tags": []
   },
   "outputs": [
    {
     "data": {
      "text/plain": [
       "25"
      ]
     },
     "execution_count": 5,
     "metadata": {},
     "output_type": "execute_result"
    }
   ],
   "source": [
    "post_bundle = browser.find_elements_by_css_selector('#table-common-content > div > div > table > tbody > tr')\n",
    "len(post_bundle)"
   ]
  },
  {
   "cell_type": "code",
   "execution_count": 6,
   "id": "d95ee6ec-fd88-4270-bd5f-d0d75f27dfc5",
   "metadata": {
    "tags": []
   },
   "outputs": [],
   "source": [
    "#페이지당 글 묶음 개수 체크\n",
    "browser.find_element_by_css_selector('tr:nth-child(1) > td:nth-child(1) > div > a').click()"
   ]
  },
  {
   "cell_type": "code",
   "execution_count": 8,
   "id": "b7c09f3d-07dc-42eb-bcaf-93dcc4250b40",
   "metadata": {
    "tags": []
   },
   "outputs": [],
   "source": [
    "#글 묶음당 글 제목, 글 글쓴이, 글 작성날짜, 글 내용, 댓글 글쓴이, 댓글 내용 \n",
    "post_title = browser.find_element_by_css_selector('.header-title').text\n",
    "post_nickname = browser.find_element_by_css_selector('.nickName').text\n",
    "post_date = browser.find_element_by_css_selector('.createdAt').text\n",
    "post_content = browser.find_element_by_css_selector('.post-detail').text\n",
    "comment_nickname = browser.find_element_by_css_selector('.cmt-nickname').text\n",
    "comment_content = browser.find_element_by_css_selector('.ProseMirror').text"
   ]
  },
  {
   "cell_type": "code",
   "execution_count": 9,
   "id": "9f62fa4b-5c6c-4383-b0a4-b87ddbec252c",
   "metadata": {
    "tags": []
   },
   "outputs": [
    {
     "data": {
      "text/plain": [
       "['목디스크',\n",
       " 'sun flower',\n",
       " '2023.09.06 19:48',\n",
       " '이번에 고생을 심하게 했어요.\\n갑자기 귀통증이 시작되면서  왼쪽 머리부터 발끝까지  저리기 시학하면서 약간의 안면마비 증상까지 있어  머리부터 발끝까지 검사를 했어요.\\n결국 목디스크 진단을 받았어요.\\n병명을 찾아내는 2주동안 너무 힘들었어요. 태어나서 이렇게 고통스러웠던 적은 없었어요.\\n2주만에 살이 5키로가 빠졌으니 얼마나 힘들었는지 아시겠죠?\\n목디스크가 터지기 일보직전이라고 하시네요.\\n퇴원하고부터 꾸준한 스트레칭과 바른 자세 유지하려고 엄청 노력중인데 생각보다 힘드네요.\\n습관을 바꾼다는것이 맘처럼 쉽지 않아요.\\n목디스크에 좋은 운동법이나  스트레칭 마구마구 추천해 주세요.\\n캐시닥 가족분들도  건강 잘 챙기시길 바래요.',\n",
       " 'genee',\n",
       " '저두 어깨가 너무 아프고 머리도 아파서 검사해보니 목디스크도 있고 s자 목이라구 어깨두 많이 뭉쳐서 빨리 풀어야 한다더라구요ㅠㅠ']"
      ]
     },
     "execution_count": 9,
     "metadata": {},
     "output_type": "execute_result"
    }
   ],
   "source": [
    "[post_title, post_nickname, post_date, post_content, comment_nickname, comment_content]"
   ]
  },
  {
   "cell_type": "code",
   "execution_count": 10,
   "id": "3e5d005b-a4af-4782-bdb6-97d56e30d131",
   "metadata": {
    "tags": []
   },
   "outputs": [],
   "source": [
    "browser.back() "
   ]
  },
  {
   "cell_type": "code",
   "execution_count": 12,
   "id": "c9dd403a-770c-44e0-aa4d-f104349e4157",
   "metadata": {
    "tags": []
   },
   "outputs": [
    {
     "ename": "ElementNotInteractableException",
     "evalue": "Message: element not interactable: element has zero size\n  (Session info: chrome=116.0.5845.188)\n",
     "output_type": "error",
     "traceback": [
      "\u001b[1;31m---------------------------------------------------------------------------\u001b[0m",
      "\u001b[1;31mElementNotInteractableException\u001b[0m           Traceback (most recent call last)",
      "Cell \u001b[1;32mIn[12], line 3\u001b[0m\n\u001b[0;32m      1\u001b[0m \u001b[38;5;66;03m#3번째 게시글 정보 가져오기\u001b[39;00m\n\u001b[0;32m      2\u001b[0m post_info \u001b[38;5;241m=\u001b[39m []\n\u001b[1;32m----> 3\u001b[0m browser\u001b[38;5;241m.\u001b[39mfind_element_by_css_selector(\u001b[38;5;124m'\u001b[39m\u001b[38;5;124mtr:nth-child(6) > td:nth-child(1) > div > a\u001b[39m\u001b[38;5;124m'\u001b[39m)\u001b[38;5;241m.\u001b[39mclick()\n\u001b[0;32m      4\u001b[0m time\u001b[38;5;241m.\u001b[39msleep(\u001b[38;5;241m4\u001b[39m)\n\u001b[0;32m      5\u001b[0m post_title \u001b[38;5;241m=\u001b[39m browser\u001b[38;5;241m.\u001b[39mfind_element_by_css_selector(\u001b[38;5;124m'\u001b[39m\u001b[38;5;124m.header-title\u001b[39m\u001b[38;5;124m'\u001b[39m)\u001b[38;5;241m.\u001b[39mtext\n",
      "File \u001b[1;32m~\\anaconda3\\Lib\\site-packages\\selenium\\webdriver\\remote\\webelement.py:80\u001b[0m, in \u001b[0;36mWebElement.click\u001b[1;34m(self)\u001b[0m\n\u001b[0;32m     78\u001b[0m \u001b[38;5;28;01mdef\u001b[39;00m \u001b[38;5;21mclick\u001b[39m(\u001b[38;5;28mself\u001b[39m):\n\u001b[0;32m     79\u001b[0m \u001b[38;5;250m    \u001b[39m\u001b[38;5;124;03m\"\"\"Clicks the element.\"\"\"\u001b[39;00m\n\u001b[1;32m---> 80\u001b[0m     \u001b[38;5;28mself\u001b[39m\u001b[38;5;241m.\u001b[39m_execute(Command\u001b[38;5;241m.\u001b[39mCLICK_ELEMENT)\n",
      "File \u001b[1;32m~\\anaconda3\\Lib\\site-packages\\selenium\\webdriver\\remote\\webelement.py:633\u001b[0m, in \u001b[0;36mWebElement._execute\u001b[1;34m(self, command, params)\u001b[0m\n\u001b[0;32m    631\u001b[0m     params \u001b[38;5;241m=\u001b[39m {}\n\u001b[0;32m    632\u001b[0m params[\u001b[38;5;124m'\u001b[39m\u001b[38;5;124mid\u001b[39m\u001b[38;5;124m'\u001b[39m] \u001b[38;5;241m=\u001b[39m \u001b[38;5;28mself\u001b[39m\u001b[38;5;241m.\u001b[39m_id\n\u001b[1;32m--> 633\u001b[0m \u001b[38;5;28;01mreturn\u001b[39;00m \u001b[38;5;28mself\u001b[39m\u001b[38;5;241m.\u001b[39m_parent\u001b[38;5;241m.\u001b[39mexecute(command, params)\n",
      "File \u001b[1;32m~\\anaconda3\\Lib\\site-packages\\selenium\\webdriver\\remote\\webdriver.py:321\u001b[0m, in \u001b[0;36mWebDriver.execute\u001b[1;34m(self, driver_command, params)\u001b[0m\n\u001b[0;32m    319\u001b[0m response \u001b[38;5;241m=\u001b[39m \u001b[38;5;28mself\u001b[39m\u001b[38;5;241m.\u001b[39mcommand_executor\u001b[38;5;241m.\u001b[39mexecute(driver_command, params)\n\u001b[0;32m    320\u001b[0m \u001b[38;5;28;01mif\u001b[39;00m response:\n\u001b[1;32m--> 321\u001b[0m     \u001b[38;5;28mself\u001b[39m\u001b[38;5;241m.\u001b[39merror_handler\u001b[38;5;241m.\u001b[39mcheck_response(response)\n\u001b[0;32m    322\u001b[0m     response[\u001b[38;5;124m'\u001b[39m\u001b[38;5;124mvalue\u001b[39m\u001b[38;5;124m'\u001b[39m] \u001b[38;5;241m=\u001b[39m \u001b[38;5;28mself\u001b[39m\u001b[38;5;241m.\u001b[39m_unwrap_value(\n\u001b[0;32m    323\u001b[0m         response\u001b[38;5;241m.\u001b[39mget(\u001b[38;5;124m'\u001b[39m\u001b[38;5;124mvalue\u001b[39m\u001b[38;5;124m'\u001b[39m, \u001b[38;5;28;01mNone\u001b[39;00m))\n\u001b[0;32m    324\u001b[0m     \u001b[38;5;28;01mreturn\u001b[39;00m response\n",
      "File \u001b[1;32m~\\anaconda3\\Lib\\site-packages\\selenium\\webdriver\\remote\\errorhandler.py:242\u001b[0m, in \u001b[0;36mErrorHandler.check_response\u001b[1;34m(self, response)\u001b[0m\n\u001b[0;32m    240\u001b[0m         alert_text \u001b[38;5;241m=\u001b[39m value[\u001b[38;5;124m'\u001b[39m\u001b[38;5;124malert\u001b[39m\u001b[38;5;124m'\u001b[39m]\u001b[38;5;241m.\u001b[39mget(\u001b[38;5;124m'\u001b[39m\u001b[38;5;124mtext\u001b[39m\u001b[38;5;124m'\u001b[39m)\n\u001b[0;32m    241\u001b[0m     \u001b[38;5;28;01mraise\u001b[39;00m exception_class(message, screen, stacktrace, alert_text)\n\u001b[1;32m--> 242\u001b[0m \u001b[38;5;28;01mraise\u001b[39;00m exception_class(message, screen, stacktrace)\n",
      "\u001b[1;31mElementNotInteractableException\u001b[0m: Message: element not interactable: element has zero size\n  (Session info: chrome=116.0.5845.188)\n"
     ]
    }
   ],
   "source": [
    "#3번째 게시글 정보 가져오기\n",
    "post_info = []\n",
    "browser.find_element_by_css_selector('tr:nth-child(6) > td:nth-child(1) > div > a').click()\n",
    "time.sleep(4)\n",
    "post_title = browser.find_element_by_css_selector('.header-title').text\n",
    "post_nickname = browser.find_element_by_css_selector('.nickName').text\n",
    "post_date = browser.find_element_by_css_selector('.createdAt').text\n",
    "post_content = browser.find_element_by_css_selector('.post-detail').text\n",
    "comment_nickname = browser.find_element_by_css_selector('.cmt-nickname').text\n",
    "comment_content = browser.find_element_by_css_selector('.ProseMirror').text\n",
    "post_info.append([post_title, post_nickname, post_date, post_content, comment_nickname, comment_content])\n",
    "print(post_info)\n",
    "browser.back() "
   ]
  },
  {
   "cell_type": "code",
   "execution_count": null,
   "id": "b90815e0-afa6-4777-9b95-3c258a18d231",
   "metadata": {
    "tags": []
   },
   "outputs": [],
   "source": [
    "# client = mg.MongoClient(host='mongodb://localhost:27017')\n",
    "# database = client['toy_dcx_data_analytics']\n",
    "# collection = database['cashdoc_reviews']\n",
    "\n",
    "# cashdoc_columns_name = ['post_title', 'post_nickname', 'post_date', 'post_content', \n",
    "# for number in range(1, 25) :\n",
    "#     try:\n",
    "#         time.sleep(3)\n",
    "#         click_path = 'tr:nth-child({}) > td:nth-child(1) > div > a'.format(number)\n",
    "#         browser.find_element_by_css_selector(click_path).click()\n",
    "#         time.sleep(3)\n",
    "#         try:\n",
    "#             post_title = browser.find_element_by_css_selector('.header-title').text\n",
    "#         except: \n",
    "#             post_title=str()\n",
    "#         try:    \n",
    "#             post_nickname = browser.find_element_by_css_selector('.nickName').text\n",
    "#         except: \n",
    "#             post_nickname =str()\n",
    "#         try:\n",
    "#             post_date = browser.find_element_by_css_selector('.createdAt').text\n",
    "#         except: \n",
    "#             post_date = str()\n",
    "#         try:\n",
    "#             post_content = browser.find_element_by_css_selector('.post-detail').text\n",
    "#         except: \n",
    "#             post_content = str()\n",
    "#         try:\n",
    "#             comment_nickname = browser.find_element_by_css_selector('.cmt-nickname').text\n",
    "#         except: \n",
    "#             comment_nickname = str()\n",
    "#         try:\n",
    "#             comment_content = browser.find_element_by_css_selector('.ProseMirror').text\n",
    "#         except: \n",
    "#             comment_content = str()\n",
    "            \n",
    "#         time.sleep(3)\n",
    "#         print('post_title:{}, post_nickname:{}, post_date:{}, post_content:{}, comment_nickname:{}, comment_content:{}'.format(post_title, post_nickname, post_date, post_content, comment_nickname, comment_content)) \n",
    "#         browser.back()\n",
    "        \n",
    "#     except:\n",
    "#         pass"
   ]
  },
  {
   "cell_type": "code",
   "execution_count": null,
   "id": "d07d6571-4d20-4519-ae40-e931efa0c0a2",
   "metadata": {
    "tags": []
   },
   "outputs": [],
   "source": [
    "#한 페이지 넘겨보기\n",
    "browser.find_element_by_css_selector('div > ul > li.next > a > img').click()"
   ]
  },
  {
   "cell_type": "code",
   "execution_count": null,
   "id": "7ab9bfc6-9574-45f5-8368-b68c0c415c82",
   "metadata": {},
   "outputs": [],
   "source": [
    "#paginations \n",
    "for next_page in range(1,15):\n",
    "    try: \n",
    "        pagination = browser.find_element_by_css_selector('div > ul > li.next > a > img').click()\n",
    "        print('성공')\n",
    "        time.sleep(3)\n",
    "    except:\n",
    "        print('실패')\n",
    "        pass"
   ]
  },
  {
   "cell_type": "code",
   "execution_count": null,
   "id": "901b78f5-0d83-4ab0-98aa-0f9f18c35aca",
   "metadata": {
    "tags": []
   },
   "outputs": [
    {
     "name": "stdout",
     "output_type": "stream",
     "text": [
      "['경주 허리 잘보는 병원', '용용이02', '2023.08.08 22:44', '허리(디스크)잘 보는 병원 있을까요\\n물리치료까지 잘봐주시는곳 추천해주세요', '저스틴', '경추 허리 잘보는 병원\\n저도 궁금하네요']\n",
      "['허리 치료 방법?', '큰사람', '2023.08.07 23:55', '하루종일 앉아서 일하는 직업입니다.\\n좁은 곳에 하루종일 앉아 있다보니 직업병으로 허리가 안 아플 수가 없어요.\\n아직 디스크 수술까지는 받지 않았지만요.\\n엉덩이 바로 위에 뼈들이 살짝 어긋나 있다고 하네요.\\n계속 이렇게 일하다간 큰일이 나지 않을까 겁이납니다.\\n한방치료로 좀 나아질 수 있을까요?', '티끌모아깨볶자', '저도 허리 디스크로 힘들어요.. ㅠㅠ. 일은 하고 있는데 쉬어야하나 말아야하나 고민이에요~   저도 한방치료 궁금해요']\n",
      "['목디스크로 팔이 저려요 ㅠ', '스위트10', '2023.08.07 23:38', '사무직에  십년넘게  일하고있다보니   항상 손으로 작업하고   고개를  숙여서  거북목이며  등도 말린거 같고  양쪽 팔이 저려서\\n숙면을 취할수가 없네요 ㅠ\\n그동안  일에 바빠서  병원갈 생각을 못햇는데  캐시닥 커뮤니티  보니 치료를 받으러 한방병원에  가야할꺼같아요\\n약침이나 추나치료  받으면  완치되는건지\\n궁금합니다', '티끌모아깨볶자', '완치는... 자세나 무리하면 아플땐 수 있는거니까요..  저도 만성 디스크로 고생중이에요.. 궁금해요~']\n",
      "['추나요법 궁금합니다', '정미영', '2023.08.07 23:27', '교통사고로 목디스크가 생겼습니다. 추나요법을 받으면 효과가 있을까요 추나요법을 일주일에\\n몇번을 받아야 좋을까 궁금합니다. 한약치료도 병행해야 되는지요 침치료를 많이 받아서 좋아졌지만 추나요법을 받는게 좋을지 고민입니다 목을 숙이는 증상도 있어서 받아야 되는 것을 고려중입나다', '티끌모아깨볶자', '아주 오래전에 받았던 기억이 있어요.. 효과 있었어요~ ']\n",
      "['허리디스크 침치료 문의요', '정정우', '2023.08.07 23:12', '예전에 소파를 이동하다 허리를 삐끗하여\\n한의원에서 침치료를 받은후 괜찮은것같아 추가적인\\n치료를 진행하진않았는데요 요즘들어 무리하거나\\n피로한경우 허리통증이 재발하고있습니다.\\n주기적인 침치료를 진행해야할지 \\n아니면 외과적인 수술이 필요할지 많은 고민이되네요.', 'Jess', '들다가 염좌가 오셨군요.\\n병원가서 좀 더 치료해보시구 고민하세요.']\n",
      "['디스크 침치료 효과가 있을까요?', '수기', '2023.08.07 23:05', '디스크 파열로 10년째 고생중이에요\\n운동으로 근육 코어 키우는 수밖에 없다고 하는데\\n살면서 그게 잘 되는것도 아니고 힘드네요\\n  어쨋든 디스크도 신경문제니까 침치료가 효과가 있지않을까 생각해보는데요\\n  저처럼 심하신 분들 중 한의원 침치료로 디스크 저림 뭉침 같은 증상 치료해보신분 후기 없을까요', '네바이넙', '디스크는 증상이 심하면 침만으로는 어려운거 같고 추나 치료랑 봉침, 약침 치료를 같이 받는게 더 효과적이었던거 같아요. 전 그렇게 치료해서 많이 좋아졌어요']\n",
      "['추나요법', 'SKY0118', '2023.08.07 20:46', '제가 정형외과에서 도수치료를 받았는데\\n사실 크게 좋다는 모르겠지만\\n나쁘지는 않았거든요\\n받고 나면 일주일정도 아프지 않고 \\n아프더라도 참을만 했던거 같아요\\n참고로 허리가 아파서 받았습니다\\n근데 이젠 도수치료사 분이 다른곳으로 가셔서요\\n해서 근처 한의원에서 하는 추나가\\n정형외과의 도수랑 비슷한건지싶어\\n받아보려는데\\n허리 디스크에 추나가 효과가 있나요??', 'ㅇㅅㅇ', '저도 너무 궁금하네요..정형외과 도수하고 한방병원 추나하고 둘다 궁금하네요.']\n",
      "['한방병원/한의원에서의 디스크 치료', 'H Kim', '2023.08.07 19:27', '나이에 따른 퇴행성 혹은 올바르지 않은 자세로 인해 디스크로 고생하는 분들이 많은거 같아요.\\n저도 작업 환경 등의 문제로 허리 디스크 고민이 있어요.\\n보통은 허리 디스크 치료를 위해 일반 병원 (양의원)에서의 수술을 고려한다고 알고 있어요.\\n그런데, 저는 한방을 통한 허리 디스크 치료에 대해 알고 싶네요.\\n얻뜻 듣기에, 한의원에서는 수술 없이 허리 디스크 치료가 가능하다고 들었거든요.\\n한의원에서 허리 디스크 치료하신 분들이 계시다면 정보 나누어 주시면 감사하겠습니다.\\n   ', '즁주', '디스크 때문에 저도 고생이 많은데 항상 병원가 보고 싶어요']\n",
      "['허리 디스크 한방 치료', 'H. Lee', '2023.08.07 18:28', '척추 질환 중 흔한 허리 디스크 한방 치료에 관한 질문이 있어요.\\n인체의 기둥인 척추, 나이가 듦에 따라 퇴행성 변화로 인해 디스크 발병률이 높아진다고 들었어요.\\n더구나, 요즘은 컴퓨터와 스마트폰을 장시간 사용하는 젊은층에서도 구부정한 자세로 인해 디스크 발병률이 높아진다고 하더라구요.\\n보통 허리 디스크 치료로 양의원을 고려하는데, 한의원에서도 디스크 치료가 가능한지와 치료 기간, 비용, 어떤 치료 방법을 쓰는지 알고 싶네요.\\n무엇보다도 수술 없이 허리 디스크 치료가 가능하다면, 이는 허리 디스크 한방 치료의 큰 장점이 될거 같아서요.\\n혹 허리 디스크 한방 치료 경험이 있는 회원분들 계시다면 정보 좀 얻고 싶습니다.\\n ', '', '']\n",
      "['아름동 코끼리마취통증의학과의원 추천해요', '긴에스패트로', '2023.08.07 11:53', '아름동에 있는 코끼리 마취통증의학과 소개해드릴께요\\n노브랜드 건물 5층에 있어 주차도 편하고 접근성이 좋아요\\n도수치료와 체외충격파치료 시스템이 갖춰져있는 통증의학의원입니다\\n통증전문의 2분이 진료하고 계세요\\n어깨통증이나 엘보 허리통증이 심한 분들이 많이 다니시더라구요~\\n디스크 치료도 전문으로 하고 계시니 통증으로 고생하시는 분들 가보시면 많이 도움되실꺼 같아요', 'seabuck', '믿음 가는 병원같아요\\n추천감사드려요']\n",
      "['잠실 카이로킴 의원 추천해요', '조하민', '2023.08.06 14:30', '잠실 카이로킴 의원은 목 디슼, 허리 디스크, 어깨 통증, 손발목 통증 전문 병원이에요. 원장님 친철하시고요. 매우 세심하게 환자 체크하고 상담해 주십니다. 주변 지인들 중 허리, 목, 발목 안 좋으신 분들 효과 톡톡히 본 케이스가 많아요. 특히 젊은 사람들 목, 어깨 안 좋은 경우 많은데 여기 도수치료 받고 좋아졌다는 분들 많아요. 잠실 카이로킴 의원 추천 드려요.', '김나영', '효과가 좋다니 귀가 솔깃하네요. 좋은 정보 감사합니다.']\n",
      "['허리디스크 한방치료로 효과 있을까요?', '이슬', '2023.08.06 14:14', '2년전에 갑자기 심한통증과 함께 움직일수가 없어서 병원을 갔는데 허리 디스크 판정을 받았네요.1주일간 입원치료하고 2달간 꾸준히 물리치료 병행하여 무리없는 아주 간단한 일상생활만 가능합니다.\\n모든 집안일은 허리에 무리가가지 않을 정도로만 움직이고, 무거운거드는거 . 들어올리는거등 허리에 무리가는 행동은 일절 하지 않고 하루에 딱 1시간정도 걷기운동을 하면서 간신히 버티고 생활하는중입니다.\\n이로인한 우울감도 있구요.\\n그래서 한방치료가 도움이 되나 싶어 한의원 가서 치료 받아보고 싶은데 한방치료 경험 하신분이나, 도움말 주실분 계실까요?', '김나영', '운동도 잘 하셔야 할 거에요. 디스크시면 걷기운동도 많이하시구요']\n",
      "['목이 너무 아파요ㅜ', '정혜림', '2023.08.05 16:51', ' 목, 어깨가 아픈지 10년정도된거같아요\\n많이 아프다 덜 아프다 반복되고, 헬스장가서 머리 높이에 있는 운동기구를 팔들어서 잡고있으면 팔에 쥐가나요. 그래서 높이들고있던 팔을 내리면 쥐가 나는 증상이 없어져요. 이게 목디스크 증상일까요? 그렇다면 한의원가서 침을 맞으면 증상이 완화될까요?', '영경', '목디스크는 손이 저린 증상이 있어요 \\n목디스크는 증상이 오래가네요 그래도 한의원 효과 있을듯해요']\n",
      "['허리치료', 'shin3357', '2023.08.05 12:47', '아주 오래된 디스크가 있어요  첫아이낳고 2002년 봄에 진단받았죠 그 이후로 힘들게 아플때에는 통증의학과에서 주사를 맞곤했어요  그래도 나름 관리잘한다 생각했는데 2년전 또 너무아파 mri찍어보니 그 밑에 디스크가 하나 더 생겼어요\\n스테로이드 주사맞는 거 무서워요 한의원에서 보조치료를 어떻게 하나요 다음에 통증있을때 한의원가보려구요 추나요법은 여러번 해야 효과가 있나요   침치료도 도움이되나요 한의원에는아직 안가봤네요', 'JN', '주사 무섭죠 아프면 정말 힘들어요\\n치료 잘 받으세요']\n",
      "['침 맞으면 목디스크 효과 있을까요?', '최혜선', '2023.08.05 03:56', '예전에 목부터 손까지 저림이 있어서\\n검사를 해보니 목 디스크라구 하드라구요\\n그 후로 증상이 있을때마다 병원가서\\n물리치료 받고 했었네요\\n침치료는 별로 안해봤는데 주위에서\\n침맞아보라구 하는데 목디스크에 침맞으면\\n효과가 있는지 어쩐지 궁금하네요 ', 'JN', '저는 한의원 효과가 있더라구요\\n방문 한번 해보세요']\n",
      "['추나요법에 관해 궁급합니다', '또이또이', '2023.08.04 21:24', '추나라는 게 정렬이 맞지 않는 관절의 정렬을 바로 잡는 거라더라구요.\\n그럼 뼈의 위치를 바꾸게 된다는 건가요?\\n저는 처음에 추나요법이라는 게 도수치료인 줄 알았거든요.\\n도수치료도 바르게 잡는 거라고 알고 있는데요.\\n그럼 추나요법과 도수치료의 차이점은 뭘까요?\\n제가 지금 목디스크인데 추나와 도수 중에 맞는 게 무엇인가 궁금하네요', '네바이넙', '추나나 도수나 어찌보면 비슷한것고 같아요. 추나는 한의사가 하는거고 도수치료는 물리치료사가 하는거라 하더라구요. 방법은 치료하는 사람따라 다르더군요.']\n",
      "['잠실동 잠실본마취통증의학과의원 추천합니다', '임형수', '2023.08.04 17:29', '안녕하세요. 평소에 디스크로 고생하시는 분들이 많지요? 저도 그랬고 지인도 그랬습니다. 이 병원은 목이나 허리, 척추 부위에 맞는 클리닉이 체계적으로 잘 되어 있습니다. 또 퇴행성관절염이나 테니스엘보 고생하시는 분을 위한 클리닉도 좋습니다. 원장님이념이 수술보다 비수술,  안전한 치료를 우선시하기에 더 믿음이 갑니다. 이윤을 위한 치료가 아닌 합리적인 치료로 추천하고 싶습니다.\\n ', '김경섭', '좋은 정보 감사드립니다, 무더위에 건강 관리 잘 하시고 \\n기운 내시기 바랍니다']\n",
      "['(꿀팁) 허리디스크 환자들이여 걸으세요', '스미마', '2023.08.04 17:01', '저는 학생때 이미 디스크가 심했는데 그대로 방치하다가 20대때 수술하고 30대때 또 수술하고.. 지금도 역시 디스크와 함께 살고있는 사람입니다..\\n거창하게 꿀팁이라고 하긴 뭐하지만.. 그래도 20년 넘게 허리디스크 환자로 살면서 수많은 이야기를 듣고 경험하고 명의들을 찾아다녀서 거의 반 의사가 다 된것 같기도 합니다^^;\\n일단 결론부터 말씀드리자면.. 제일 중요한것! 걸으세요~\\n너무 아프시면.. 주사로 통증을 조절하면서 걷는걸 추천드립니다..\\n아플때 무리해서 운동하면 더 심하게 터져서 후회하실거에요.. 제가 그러다가 다리신경쪽으로 디스크가 터져서 발가락까지 마비가 진행되었거든요~\\n이것저것 많은 운동 하려고 하지 마시고 걸으십쇼!! 걷는게 최고에요 어느 의사를 찾아가도 어느 병원을 가도 제 MRI를 판독하며 다른걸 추천하지 않습니다. 그냥 걸으라고 해요~ 걷고 또 걸어서 버티다가 아파서 도저히 안되겠으면 그때 세번째 수술을 하자고 그럽니다^^;\\n그런데요 걷다보니 신기하게 통증이 그나마 조금씩 잡혀요~ 솔직히 안아프진 않은데.. 그래도 버틸만해요!!!\\n처음엔 길에서 잘 걷지 못했어요 허리에 그대로 충격이 가서요~ 의사선생님 추천으로 수영장가서 자유수영시간에 물속에서 걷는 걸 시작으로 조금씩 시간을 늘려갔고.. 지금은 길에서도 잘 걸어다닙니다~\\n걷기와 더불어 한가지 더 말씀드리고싶은건 유연성을 키우겠다고 앞으로 숙이는 동작들 하지 마세요 ㅠㅠ\\n유연성 키우려다 허리 터집니다..ㅠㅠ\\n공원에서 걷다보면 많은 노인분들이 앞으로 막 숙이시고 허리를 푹푹 숙이시는데.. 저 정말 가서 말리고싶어요\\n한번 집나간 허리는 돌아오지 않습니다\\n무통할 그날까지 우리 화이팅해요!! ', 'olivia29', '디스크까지는 아니지만 요즘 들어 허리가 아프기 시작해서 유튜브 허리강화 스트레칭 운동 보면서 따라했었는데 걷는게 도움이 되는군요~ 잘 안걷는데 꾸준히 걸어보도록할게요^^']\n",
      "['목과 허리가 안좋아요', '치웅', '2023.08.04 11:30', '요즘 정말 컨디션이 좋지 않은데 이번 이벤트로 한의원 침에 대해 묻고 싶어요 얼마 전부터 목이 좋지 않은지 팔이 조금 저리더라구요 승모근과 목이 뻐근하고 팔목 부위에 통증이 있는데 한의원에서 침 맞으면 효과가 있을까요?? 그리고 통증 정도가 얼마인지 몇번 정도 시술을 해야하는지 궁금해요 또 허리디스크 초기증상이라고 해서 걷기운동 꾸준히 하는데 가끔 통증이 올라 오는데 한의원 치료가 효과가 있을지 궁금해요 정말  몸관리 이제부터라도 잘해야겠어요', '해피혀니', '침으로도 효과 볼수 있어요.\\n일단 상담한번 받아 보셔요.\\n정도에 따라 기간은 차이가 나더라구요.']\n",
      "실패\n",
      "['한의원 허리디스크 추나요법 효과', '코돌이코', '2023.08.03 01:17', '안녕하세요.\\n허리디스크 통증이 심해지고 있어 일상생활에 지장이 있을 정도입니다.\\n하루빨리 치료를 받아야 할 것 같은데\\n한의원에서 추나요법이나 침치료를 받으면 도움이 된다고 들었는데, 효과가 있을지 궁금합니다. 후기들좀 드려주세요. 감사합니다.', '이베트미욘', '저는 추나요법이라고 몇번을 받았어요. 그 당시의 통증은 완화되는듯 했는데 시간 지나면 돌아오더라구요']\n",
      "['추나요법 궁금합니다.', '기춘이', '2023.08.02 17:18', '추나요법에 대해 궁금합니다.\\n추나요법과 도수치료의 차이가 어떻게 될까요??\\n뭔가 뼈의 위치?를 맞춰 주는 느낌? 자세를 바르게 해주는?? \\n그런 느낌은 비슷한데 그냥 한방이냐 양방이냐의 차이만 있는걸까요??\\n골반에 통증이 있어요. 아마도 골반이 삐뚤어지고 허리디스크가 있어서 골반 통증이 있는것 같아요.\\n이 통증을 주사로 인해 통증을 못느끼게 하는건 의미가 없는 것 같아서\\n근본적인 원인을 해결하려고 하는데요. 제가 골반의 높이가 다른게 아니라\\n앞뒤가 위치가 달라요. 한쪽 골반은 앞쪽으로 다른 골반은 뜃쪽으로 빠져있는 상태입니다.\\n그래서 뒷모습을 보면 허리가 삐뚤어진 모습이 육안으로도 확인이 된다고 합니다.\\n이러한 증상인데 추나 요법을 통한 치료가 가능할지 궁금합니다', '이하린', '추나요법 정말 궁금하네요.\\n현대인이면 거북목도 있고 저도 해보고싶어요']\n",
      "['디스크 한방과 양방 치료 효과', 'agnes0117', '2023.08.02 11:32', '몇달 전 자매들 여행을 다녀 왔는데 언니가 허리가 아프다고 하더라고요\\n몇 주 지나서 걸을 수 없을 정도로 아파서 정형외과 가서 검사했더니 디스크라고 하더라고요\\n그래서 일주일에 두번씩 몇 달간 주사치료를 받았어요. 비용도 엄청 비싸더라고요\\n주사치료를 받을 때는 통증이 없어졌는데 비싼 주사치료를 계속 받을 수 있는것도 아니고...\\n주사치료 중단한지 한두달 정도 됐는데 지금도 무리하거나 피곤할 때 가끔씩 통증이 있다고 하더라고요.\\n혹시 한방으로 디스크 치료해 보신분 있으신가요? 수술하지 않을 경우 양방 한방 어떤 치료가 비용이나 효과면에서 더 나은가요?', '이하린', '디스크를 한방으로 치료한건 못봤어요\\n그냥 통증감소 같았어요 ㅠ']\n",
      "['허리 통증에 추나요법~', '윤이', '2023.08.02 09:00', '허리아픈게 이젠 고질병인것 같아요\\nMRI를 찍어보니 디스크증상이 있다고\\n수술할 정도는 아니라며 약만 주네요\\n침이랑 추나요법을 생각하고 있는데\\n추나요법을 하면 아프지 않을까요\\n추나요법 하신분 중에 허리아픈게 괜찮아졌는지도 궁금하네요', '이하린', '디스크가 신경을 건드리는거면\\n자세교정으로 통증 개선 효과 잇을거에요']\n"
     ]
    }
   ],
   "source": [
    "# 최종 \n",
    "\n",
    "# post_list= []\n",
    "\n",
    "client = mg.MongoClient(host='mongodb://localhost:27017')\n",
    "database = client['toy_dcx_data_analytics']\n",
    "collection = database['cashdoc_reviews']\n",
    "\n",
    "cashdoc_columns_name = ['post_title', 'post_nickname', 'post_date', 'post_content', 'comment_nickname', 'comment_content']\n",
    "post_list = []\n",
    "for next_page in range(1,15):\n",
    "    try: \n",
    "        pagination = browser.find_element_by_css_selector('div > ul > li.next > a > img').click()\n",
    "        time.sleep(1)\n",
    "        for number in range(6, 25) :\n",
    "            # print('성공')\n",
    "            try:\n",
    "                time.sleep(1)\n",
    "                click_path = 'tr:nth-child({}) > td:nth-child(1) > div > a'.format(number)\n",
    "                browser.find_element_by_css_selector(click_path).click()\n",
    "                time.sleep(1)\n",
    "                try:\n",
    "                    post_title = browser.find_element_by_css_selector('.header-title').text\n",
    "                except: \n",
    "                    post_title=str()\n",
    "                try:    \n",
    "                    post_nickname = browser.find_element_by_css_selector('.nickName').text\n",
    "                except: \n",
    "                    post_nickname =str()\n",
    "                try:\n",
    "                    post_date = browser.find_element_by_css_selector('.createdAt').text\n",
    "                except: \n",
    "                    post_date = str()\n",
    "                try:\n",
    "                    post_content = browser.find_element_by_css_selector('.post-detail').text\n",
    "                except: \n",
    "                    post_content = str()\n",
    "                try:\n",
    "                    comment_nickname = browser.find_element_by_css_selector('.cmt-nickname').text\n",
    "                except: \n",
    "                    comment_nickname = str()\n",
    "                try:\n",
    "                    comment_content = browser.find_element_by_css_selector('.ProseMirror').text\n",
    "                except: \n",
    "                    comment_content = str()\n",
    "            \n",
    "                time.sleep(1)\n",
    "                single_post_list = [post_title, post_nickname, post_date, post_content, comment_nickname, comment_content]\n",
    "                print(single_post_list)\n",
    "                \n",
    "                post_list.append(single_post_list)\n",
    "                \n",
    "                # print('post_title:{}, post_nickname:{}, post_date:{}, post_content:{}, comment_nickname:{}, comment_content:{}'.format(post_title, post_nickname, post_date, post_content, comment_nickname, comment_content)) \n",
    "                browser.back()\n",
    "                df_cashdoc = pd.DataFrame(data= post_list, columns=cashdoc_columns_name)\n",
    "                data_dict = df_cashdoc.to_dict(orient='records')\n",
    "                collection.insert_many(data_dict)\n",
    "                single_post_list= []\n",
    "            except:\n",
    "                pass\n",
    "            \n",
    "    except:\n",
    "        print('실패')\n",
    "        pass\n",
    "    "
   ]
  }
 ],
 "metadata": {
  "kernelspec": {
   "display_name": "Python 3 (ipykernel)",
   "language": "python",
   "name": "python3"
  },
  "language_info": {
   "codemirror_mode": {
    "name": "ipython",
    "version": 3
   },
   "file_extension": ".py",
   "mimetype": "text/x-python",
   "name": "python",
   "nbconvert_exporter": "python",
   "pygments_lexer": "ipython3",
   "version": "3.11.3"
  }
 },
 "nbformat": 4,
 "nbformat_minor": 5
}
